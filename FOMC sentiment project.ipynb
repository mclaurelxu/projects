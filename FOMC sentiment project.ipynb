{
 "cells": [
  {
   "cell_type": "code",
   "execution_count": 1,
   "metadata": {},
   "outputs": [],
   "source": [
    "import math\n",
    "import statistics\n",
    "import pandas as pd\n",
    "import numpy as np\n",
    "import matplotlib.pyplot as plt\n",
    "import scipy.stats as stats            \n",
    "import statsmodels.api as statsmod "
   ]
  },
  {
   "cell_type": "markdown",
   "metadata": {},
   "source": [
    "## <span style=\"color:blue\"> 1. Textual Analysis and FOMC Minutes </span> \n",
    "\n",
    "Goal: (a) to measure and quantify central bankers' positive and negative sentiment during FOMC meetings, and then (b) examine how these two sentiment measures evolve over time on a yearly basis.\n",
    "\n",
    "$\\mbox{NegativeScore}_{20200315} = \\frac{\\mbox{Count of Negative Words}_{20200315}}{\\mbox{Count of Total Words}_{20200315}}\\times 100$ \n",
    "\n",
    "\n",
    "$\\mbox{PositiveScore}_{20200315} = \\frac{\\mbox{Count of Positive Words}_{20200315}}{\\mbox{Count of Total Words}_{20200315}}\\times 100$"
   ]
  },
  {
   "cell_type": "code",
   "execution_count": 2,
   "metadata": {},
   "outputs": [],
   "source": [
    "# Step 1. Import the 20200315 meeting file, '1.6_LM_negative.txt', '1.6_LM_positive.txt', and 'StopWords_Generic.txt'\n",
    "def Input(filename):        \n",
    "    f = open(filename, 'r')      \n",
    "    lines = f.readlines()        \n",
    "    lines = [l.strip() for l in lines]    \n",
    "    f.close()\n",
    "    return lines"
   ]
  },
  {
   "cell_type": "code",
   "execution_count": 3,
   "metadata": {},
   "outputs": [],
   "source": [
    "pos = Input('1.6_LM_positive.txt')\n",
    "neg = Input('1.6_LM_negative.txt')\n",
    "stop = Input('StopWords_Generic.txt')"
   ]
  },
  {
   "cell_type": "code",
   "execution_count": 4,
   "metadata": {},
   "outputs": [
    {
     "name": "stdout",
     "output_type": "stream",
     "text": [
      "4.61634435433562 1.2320648783530879\n"
     ]
    }
   ],
   "source": [
    "# Step 2. Clean up the text file & score calculation\n",
    "txt = Input('20200315.txt')\n",
    "#remove empty strings\n",
    "words = []\n",
    "for i in range(len(txt)):\n",
    "    if txt[i] != '':\n",
    "        words.append(txt[i])\n",
    "\n",
    "clean = []\n",
    "for j in range(len(words)):\n",
    "    a = words[j].split()\n",
    "    for q in range(len(a)):\n",
    "        clean.append(a[q].strip(\".,-()*/:\"))\n",
    "\n",
    "#drop stop words\n",
    "final = [element for element in clean if element.upper() not in stop]\n",
    "wordcount = len(final)\n",
    "\n",
    "neglst = [x for x in final if x.upper() in neg]\n",
    "poslst = [y for y in final if y.upper() in pos]\n",
    "neg_score = len(neglst)/wordcount*100\n",
    "pos_score = len(poslst)/wordcount*100\n",
    "print(neg_score,pos_score)\n",
    "\n",
    "if neg_score > pos_score:\n",
    "    sentiment = 'negative'\n",
    "else:\n",
    "    sentiment = 'positive'\n"
   ]
  },
  {
   "cell_type": "code",
   "execution_count": 5,
   "metadata": {},
   "outputs": [
    {
     "name": "stdout",
     "output_type": "stream",
     "text": [
      "During this FOMC meeting, central bankers and officials expressed slightly more negative sentiment. To be specific, 79 of 6412 words (or 1.23%) are related to positive sentiment, while 4.62% are related to negative sentiment.\n"
     ]
    }
   ],
   "source": [
    "print(\"During this FOMC meeting, central bankers and officials expressed slightly more {} sentiment. To be specific, {} of {} words (or {:2.2f}%) are related to positive sentiment, while {:2.2f}% are related to negative sentiment.\".format(sentiment,len(poslst),wordcount,pos_score,neg_score))"
   ]
  },
  {
   "cell_type": "markdown",
   "metadata": {},
   "source": [
    "Repeat steps above for all the 256 FOMC meeting minutes files, and obtain a dataset containing 256 negative scores (\"NEGSCORE\") and a dataset of 256 positive scores (\"POSSCORE\"). "
   ]
  },
  {
   "cell_type": "code",
   "execution_count": 6,
   "metadata": {},
   "outputs": [],
   "source": [
    "TITLE = ['19900207.txt','19900327.txt',\t'19900515.txt',\t'19900703.txt',\t'19900821.txt',\t'19901002.txt',\t'19901113.txt',\t'19901218.txt',\t'19910206.txt',\t'19910326.txt',\t'19910514.txt',\t'19910703.txt',\t'19910820.txt',\t'19911001.txt',\t'19911105.txt',\t'19911217.txt',\t'19920205.txt',\t'19920331.txt',\t'19920519.txt',\t'19920701.txt',\t'19920818.txt',\t'19921006.txt',\t'19921117.txt',\t'19921222.txt',\t'19930203.txt',\t'19930323.txt',\t'19930518.txt',\t'19930707.txt',\t'19930817.txt',\t'19930921.txt',\t'19931116.txt',\t'19931221.txt',\t'19940204.txt',\t'19940322.txt',\t'19940517.txt',\t'19940706.txt',\t'19940816.txt',\t'19940927.txt',\t'19941115.txt',\t'19941220.txt',\t'19950201.txt',\t'19950328.txt',\t'19950523.txt',\t'19950706.txt',\t'19950822.txt',\t'19950926.txt',\t'19951115.txt',\t'19951219.txt',\t'19960130.txt',\t'19960326.txt',\t'19960521.txt',\t'19960702.txt',\t'19960820.txt',\t'19960924.txt',\t'19961113.txt',\t'19961217.txt',\t'19970204.txt',\t'19970325.txt',\t'19970520.txt',\t'19970701.txt',\t'19970819.txt',\t'19970930.txt',\t'19971112.txt',\t'19971216.txt',\t'19980203.txt',\t'19980331.txt',\t'19980519.txt',\t'19980630.txt',\t'19980818.txt',\t'19980929.txt',\t'19981117.txt',\t'19981222.txt',\t'19990202.txt',\t'19990330.txt',\t'19990518.txt',\t'19990629.txt',\t'19990824.txt',\t'19991005.txt',\t'19991116.txt',\t'19991221.txt',\t'20000202.txt',\t'20000321.txt',\t'20000516.txt',\t'20000628.txt',\t'20000822.txt',\t'20001003.txt',\t'20001115.txt',\t'20001219.txt',\t'20010131.txt',\t'20010320.txt',\t'20010515.txt',\t'20010627.txt',\t'20010821.txt',\t'20011002.txt',\t'20011106.txt',\t'20011211.txt',\t'20020130.txt',\t'20020319.txt',\t'20020507.txt',\t'20020626.txt',\t'20020813.txt',\t'20020924.txt',\t'20021106.txt',\t'20021210.txt',\t'20030129.txt',\t'20030318.txt',\t'20030506.txt',\t'20030625.txt',\t'20030812.txt',\t'20030916.txt',\t'20031028.txt',\t'20031209.txt',\t'20040128.txt',\t'20040316.txt',\t'20040504.txt',\t'20040630.txt',\t'20040810.txt',\t'20040921.txt',\t'20041110.txt',\t'20041214.txt',\t'20050202.txt',\t'20050322.txt',\t'20050503.txt',\t'20050630.txt',\t'20050809.txt',\t'20050920.txt',\t'20051101.txt',\t'20051213.txt',\t'20060131.txt',\t'20060328.txt',\t'20060510.txt',\t'20060629.txt',\t'20060808.txt',\t'20060920.txt',\t'20061025.txt',\t'20061212.txt',\t'20070131.txt',\t'20070321.txt',\t'20070509.txt',\t'20070628.txt',\t'20070807.txt',\t'20070918.txt',\t'20071031.txt',\t'20071211.txt',\t'20080130.txt',\t'20080318.txt',\t'20080430.txt',\t'20080625.txt',\t'20080805.txt',\t'20080916.txt',\t'20081029.txt',\t'20081216.txt',\t'20090128.txt',\t'20090318.txt',\t'20090429.txt',\t'20090624.txt',\t'20090812.txt',\t'20090923.txt',\t'20091104.txt',\t'20091216.txt',\t'20100127.txt',\t'20100316.txt',\t'20100428.txt',\t'20100623.txt',\t'20100810.txt',\t'20100921.txt',\t'20101103.txt',\t'20101214.txt',\t'20110126.txt',\t'20110315.txt',\t'20110427.txt',\t'20110622.txt',\t'20110809.txt',\t'20110921.txt',\t'20111102.txt',\t'20111213.txt',\t'20120125.txt',\t'20120313.txt',\t'20120425.txt',\t'20120620.txt',\t'20120801.txt',\t'20120913.txt',\t'20121024.txt',\t'20121212.txt',\t'20130130.txt',\t'20130320.txt',\t'20130501.txt',\t'20130619.txt',\t'20130731.txt',\t'20130918.txt',\t'20131030.txt',\t'20131218.txt',\t'20140129.txt',\t'20140319.txt',\t'20140430.txt',\t'20140618.txt',\t'20140730.txt',\t'20140917.txt',\t'20141029.txt',\t'20141217.txt',\t'20150128.txt',\t'20150318.txt',\t'20150429.txt',\t'20150617.txt',\t'20150729.txt',\t'20150917.txt',\t'20151028.txt',\t'20151216.txt',\t'20160127.txt',\t'20160316.txt',\t'20160427.txt',\t'20160615.txt',\t'20160727.txt',\t'20160921.txt',\t'20161102.txt',\t'20161214.txt',\t'20170201.txt',\t'20170315.txt',\t'20170503.txt',\t'20170614.txt',\t'20170726.txt',\t'20170920.txt',\t'20171101.txt',\t'20171213.txt',\t'20180131.txt',\t'20180321.txt',\t'20180502.txt',\t'20180613.txt',\t'20180801.txt',\t'20180926.txt',\t'20181108.txt',\t'20181219.txt',\t'20190130.txt',\t'20190320.txt',\t'20190501.txt',\t'20190619.txt',\t'20190731.txt',\t'20190918.txt',\t'20191030.txt',\t'20191211.txt',\t'20200129.txt',\t'20200315.txt',\t'20200429.txt',\t'20200610.txt',\t'20200729.txt',\t'20200916.txt',\t'20201105.txt',\t'20201216.txt', '20210127.txt', '20210317.txt', '20210428.txt', '20210616.txt', '20210728.txt', '20210922.txt', '20211103.txt', '20211215.txt']"
   ]
  },
  {
   "cell_type": "code",
   "execution_count": 7,
   "metadata": {},
   "outputs": [],
   "source": [
    "NEGSCORE = []\n",
    "POSSCORE = []\n",
    "for i in range(len(TITLE)):\n",
    "    f = open(TITLE[i], 'r', encoding='utf-8')    \n",
    "    txt = f.readlines()        \n",
    "    txt = [l.strip() for l in txt] \n",
    "\n",
    "    words = []\n",
    "    for i in range(len(txt)):\n",
    "        if txt[i] != '':\n",
    "            words.append(txt[i])\n",
    "            \n",
    "    clean = []\n",
    "    for j in range(len(words)):\n",
    "        a = words[j].split()\n",
    "        for q in range(len(a)):\n",
    "            clean.append(a[q].strip(\".,-()*/:\"))\n",
    "\n",
    "    final = [element for element in clean if element.upper() not in stop]\n",
    "    wordcount = len(final)\n",
    "\n",
    "    neglst = [x for x in final if x.upper() in neg]\n",
    "    poslst = [y for y in final if y.upper() in pos]\n",
    "    neg_score = len(neglst)/wordcount*100\n",
    "    pos_score = len(poslst)/wordcount*100\n",
    "    \n",
    "    NEGSCORE.append(neg_score)\n",
    "    POSSCORE.append(pos_score)\n"
   ]
  },
  {
   "cell_type": "markdown",
   "metadata": {},
   "source": [
    "Use the two datasets generated above to obtain $average$ positive and negative scores by $year$. "
   ]
  },
  {
   "cell_type": "code",
   "execution_count": 8,
   "metadata": {},
   "outputs": [],
   "source": [
    "years = [x[0:4] for x in TITLE]\n",
    "neg_tuples = list(zip(years,NEGSCORE))\n",
    "neg_df = pd.DataFrame(neg_tuples, columns=['years','NEGSCORE'])\n",
    "neg_avg = neg_df.groupby('years').mean()\n",
    "neglst = neg_avg['NEGSCORE'].tolist()\n",
    "\n",
    "pos_tuples = list(zip(years,POSSCORE))\n",
    "pos_df = pd.DataFrame(pos_tuples, columns=['years','POSSCORE'])\n",
    "pos_avg = pos_df.groupby('years').mean()\n",
    "poslst = pos_avg['POSSCORE'].tolist()"
   ]
  },
  {
   "cell_type": "code",
   "execution_count": 9,
   "metadata": {},
   "outputs": [
    {
     "data": {
      "image/png": "[encoded data removed]",
      "text/plain": [
       "<Figure size 432x288 with 1 Axes>"
      ]
     },
     "metadata": {
      "needs_background": "light"
     },
     "output_type": "display_data"
    }
   ],
   "source": [
    "yearlst = list(range(1990,2022))\n",
    "plt.plot(yearlst, neglst, color = 'red', label = 'negscore')\n",
    "plt.plot(yearlst, poslst, color = 'blue', label = 'posscore')\n",
    "plt.xlabel('Years')\n",
    "plt.ylabel('Score Levels')\n",
    "plt.title('FOMC Sentiment 1990-2021')\n",
    "plt.legend()\n",
    "plt.show()"
   ]
  },
  {
   "cell_type": "markdown",
   "metadata": {},
   "source": [
    "## <span style=\"color:blue\"> 2. Regression Analysis </span> \n",
    "\n",
    "I want to examine which observables (asset prices, VIX, consumer sentiment) may be more sensitive to Central Bank's sentiment."
   ]
  },
  {
   "cell_type": "code",
   "execution_count": 10,
   "metadata": {},
   "outputs": [],
   "source": [
    "def reg_m(y, x):\n",
    "    X = np.hstack((np.ones((len(x),1)), x))     \n",
    "    results = statsmod.OLS(y, X).fit()                \n",
    "    return results"
   ]
  },
  {
   "cell_type": "code",
   "execution_count": 11,
   "metadata": {},
   "outputs": [
    {
     "name": "stdout",
     "output_type": "stream",
     "text": [
      "0.19094623557718768\n"
     ]
    }
   ],
   "source": [
    "q2 = np.genfromtxt(\"part2_data.csv\", delimiter=',')\n",
    "q2_n = np.array([\"year\", \"neg\", \"pos\", \"comm\", \"gold\", \"oil\", \"World\", \"NA\", \"Europe\", \"EM\", \"Asia\", \"USA\", \"Japan\", \"UK\", \"Germany\", \"VIX\", \"Consumer\"])\n",
    "cor = np.corrcoef(q2[1:,1:3].T)[0,1]\n",
    "print(cor)"
   ]
  },
  {
   "cell_type": "markdown",
   "metadata": {},
   "source": [
    "Run the following 5 contemperanous regressions: \n",
    "1. NEGSCORE = a + b * POSSCORE + e       \n",
    "2. Commodity returns = a + b1 * NEGSCORE + b2 * POSSCORE + e\n",
    "3. USA stock returns = a + b1 * NEGSCORE + b2 * POSSCORE + e\n",
    "4. Changes in VIX = a + b1 * NEGSCORE + b2 * POSSCORE + e\n",
    "5. Changes in consumer sentiment = a + b1 * NEGSCORE + b2 * POSSCORE + e"
   ]
  },
  {
   "cell_type": "code",
   "execution_count": 12,
   "metadata": {},
   "outputs": [
    {
     "data": {
      "text/plain": [
       "LinregressResult(slope=0.435974370076173, intercept=2.1335225905397617, rvalue=0.1909462355771877, pvalue=0.2951683915909264, stderr=0.4091890469236198)"
      ]
     },
     "execution_count": 12,
     "metadata": {},
     "output_type": "execute_result"
    }
   ],
   "source": [
    "#1\n",
    "neg = q2[1:,1]\n",
    "pos = q2[1:,2]\n",
    "xy = np.vstack((pos,neg))\n",
    "stats.linregress(xy)"
   ]
  },
  {
   "cell_type": "markdown",
   "metadata": {},
   "source": [
    "Note: in the following summary statistics x1 coefficient is for POSSCORE and x2 coefficient is for NEGSCORE."
   ]
  },
  {
   "cell_type": "code",
   "execution_count": 13,
   "metadata": {},
   "outputs": [
    {
     "name": "stdout",
     "output_type": "stream",
     "text": [
      "                            OLS Regression Results                            \n",
      "==============================================================================\n",
      "Dep. Variable:                      y   R-squared:                       0.233\n",
      "Model:                            OLS   Adj. R-squared:                  0.180\n",
      "Method:                 Least Squares   F-statistic:                     4.403\n",
      "Date:                Sun, 19 Jun 2022   Prob (F-statistic):             0.0214\n",
      "Time:                        12:14:40   Log-Likelihood:                 2.3608\n",
      "No. Observations:                  32   AIC:                             1.278\n",
      "Df Residuals:                      29   BIC:                             5.676\n",
      "Df Model:                           2                                         \n",
      "Covariance Type:            nonrobust                                         \n",
      "==============================================================================\n",
      "                 coef    std err          t      P>|t|      [0.025      0.975]\n",
      "------------------------------------------------------------------------------\n",
      "const         -0.0734      0.275     -0.267      0.792      -0.636       0.490\n",
      "x1             0.3124      0.142      2.204      0.036       0.023       0.602\n",
      "x2            -0.1472      0.062     -2.371      0.025      -0.274      -0.020\n",
      "==============================================================================\n",
      "Omnibus:                        0.402   Durbin-Watson:                   2.141\n",
      "Prob(Omnibus):                  0.818   Jarque-Bera (JB):                0.557\n",
      "Skew:                          -0.139   Prob(JB):                        0.757\n",
      "Kurtosis:                       2.416   Cond. No.                         25.4\n",
      "==============================================================================\n",
      "\n",
      "Warnings:\n",
      "[1] Standard Errors assume that the covariance matrix of the errors is correctly specified.\n"
     ]
    }
   ],
   "source": [
    "comm = q2[1:,3]\n",
    "exo = xy.T\n",
    "exos = statsmod.tools.tools.add_constant(exo)\n",
    "results = statsmod.OLS(comm, exos).fit()\n",
    "print(results.summary())"
   ]
  },
  {
   "cell_type": "code",
   "execution_count": 14,
   "metadata": {},
   "outputs": [
    {
     "name": "stdout",
     "output_type": "stream",
     "text": [
      "                            OLS Regression Results                            \n",
      "==============================================================================\n",
      "Dep. Variable:                      y   R-squared:                       0.229\n",
      "Model:                            OLS   Adj. R-squared:                  0.176\n",
      "Method:                 Least Squares   F-statistic:                     4.303\n",
      "Date:                Sun, 19 Jun 2022   Prob (F-statistic):             0.0231\n",
      "Time:                        12:14:43   Log-Likelihood:                 15.738\n",
      "No. Observations:                  32   AIC:                            -25.48\n",
      "Df Residuals:                      29   BIC:                            -21.08\n",
      "Df Model:                           2                                         \n",
      "Covariance Type:            nonrobust                                         \n",
      "==============================================================================\n",
      "                 coef    std err          t      P>|t|      [0.025      0.975]\n",
      "------------------------------------------------------------------------------\n",
      "const          0.0691      0.181      0.381      0.706      -0.302       0.440\n",
      "x1             0.1940      0.093      2.079      0.047       0.003       0.385\n",
      "x2            -0.0992      0.041     -2.428      0.022      -0.183      -0.016\n",
      "==============================================================================\n",
      "Omnibus:                        1.756   Durbin-Watson:                   2.143\n",
      "Prob(Omnibus):                  0.416   Jarque-Bera (JB):                1.606\n",
      "Skew:                          -0.452   Prob(JB):                        0.448\n",
      "Kurtosis:                       2.378   Cond. No.                         25.4\n",
      "==============================================================================\n",
      "\n",
      "Warnings:\n",
      "[1] Standard Errors assume that the covariance matrix of the errors is correctly specified.\n"
     ]
    }
   ],
   "source": [
    "USA = q2[1:,q2_n == 'USA']\n",
    "exo = xy.T\n",
    "exos = statsmod.tools.tools.add_constant(exo)\n",
    "results = statsmod.OLS(USA, exos).fit()\n",
    "print(results.summary())"
   ]
  },
  {
   "cell_type": "code",
   "execution_count": 15,
   "metadata": {},
   "outputs": [
    {
     "name": "stdout",
     "output_type": "stream",
     "text": [
      "                            OLS Regression Results                            \n",
      "==============================================================================\n",
      "Dep. Variable:                      y   R-squared:                       0.248\n",
      "Model:                            OLS   Adj. R-squared:                  0.196\n",
      "Method:                 Least Squares   F-statistic:                     4.773\n",
      "Date:                Sun, 19 Jun 2022   Prob (F-statistic):             0.0162\n",
      "Time:                        12:14:45   Log-Likelihood:                -2.5728\n",
      "No. Observations:                  32   AIC:                             11.15\n",
      "Df Residuals:                      29   BIC:                             15.54\n",
      "Df Model:                           2                                         \n",
      "Covariance Type:            nonrobust                                         \n",
      "==============================================================================\n",
      "                 coef    std err          t      P>|t|      [0.025      0.975]\n",
      "------------------------------------------------------------------------------\n",
      "const         -0.0446      0.321     -0.139      0.891      -0.701       0.612\n",
      "x1            -0.2996      0.165     -1.811      0.080      -0.638       0.039\n",
      "x2             0.2030      0.072      2.803      0.009       0.055       0.351\n",
      "==============================================================================\n",
      "Omnibus:                       12.042   Durbin-Watson:                   2.177\n",
      "Prob(Omnibus):                  0.002   Jarque-Bera (JB):               11.391\n",
      "Skew:                           1.240   Prob(JB):                      0.00336\n",
      "Kurtosis:                       4.548   Cond. No.                         25.4\n",
      "==============================================================================\n",
      "\n",
      "Warnings:\n",
      "[1] Standard Errors assume that the covariance matrix of the errors is correctly specified.\n"
     ]
    }
   ],
   "source": [
    "VIX = q2[1:,q2_n == 'VIX']\n",
    "exo = xy.T\n",
    "exos = statsmod.tools.tools.add_constant(exo)\n",
    "results = statsmod.OLS(VIX, exos).fit()\n",
    "print(results.summary())"
   ]
  },
  {
   "cell_type": "code",
   "execution_count": 16,
   "metadata": {},
   "outputs": [
    {
     "name": "stdout",
     "output_type": "stream",
     "text": [
      "                            OLS Regression Results                            \n",
      "==============================================================================\n",
      "Dep. Variable:                      y   R-squared:                       0.255\n",
      "Model:                            OLS   Adj. R-squared:                  0.203\n",
      "Method:                 Least Squares   F-statistic:                     4.953\n",
      "Date:                Sun, 19 Jun 2022   Prob (F-statistic):             0.0141\n",
      "Time:                        12:14:45   Log-Likelihood:                 38.259\n",
      "No. Observations:                  32   AIC:                            -70.52\n",
      "Df Residuals:                      29   BIC:                            -66.12\n",
      "Df Model:                           2                                         \n",
      "Covariance Type:            nonrobust                                         \n",
      "==============================================================================\n",
      "                 coef    std err          t      P>|t|      [0.025      0.975]\n",
      "------------------------------------------------------------------------------\n",
      "const         -0.0648      0.090     -0.722      0.476      -0.248       0.119\n",
      "x1             0.1164      0.046      2.520      0.017       0.022       0.211\n",
      "x2            -0.0471      0.020     -2.332      0.027      -0.088      -0.006\n",
      "==============================================================================\n",
      "Omnibus:                        0.494   Durbin-Watson:                   1.704\n",
      "Prob(Omnibus):                  0.781   Jarque-Bera (JB):                0.605\n",
      "Skew:                          -0.244   Prob(JB):                        0.739\n",
      "Kurtosis:                       2.536   Cond. No.                         25.4\n",
      "==============================================================================\n",
      "\n",
      "Warnings:\n",
      "[1] Standard Errors assume that the covariance matrix of the errors is correctly specified.\n"
     ]
    }
   ],
   "source": [
    "Consumer = q2[1:,q2_n == 'Consumer']\n",
    "exo = xy.T\n",
    "exos = statsmod.tools.tools.add_constant(exo)\n",
    "results = statsmod.OLS(Consumer, exos).fit()\n",
    "print(results.summary())"
   ]
  },
  {
   "cell_type": "code",
   "execution_count": 17,
   "metadata": {},
   "outputs": [
    {
     "name": "stdout",
     "output_type": "stream",
     "text": [
      "                            OLS Regression Results                            \n",
      "==============================================================================\n",
      "Dep. Variable:                      y   R-squared:                       0.183\n",
      "Model:                            OLS   Adj. R-squared:                  0.127\n",
      "Method:                 Least Squares   F-statistic:                     3.254\n",
      "Date:                Sun, 19 Jun 2022   Prob (F-statistic):             0.0531\n",
      "Time:                        12:14:46   Log-Likelihood:                -13.534\n",
      "No. Observations:                  32   AIC:                             33.07\n",
      "Df Residuals:                      29   BIC:                             37.46\n",
      "Df Model:                           2                                         \n",
      "Covariance Type:            nonrobust                                         \n",
      "==============================================================================\n",
      "                 coef    std err          t      P>|t|      [0.025      0.975]\n",
      "------------------------------------------------------------------------------\n",
      "const         -0.1647      0.452     -0.364      0.718      -1.090       0.760\n",
      "x1             0.4718      0.233      2.025      0.052      -0.005       0.948\n",
      "x2            -0.1948      0.102     -1.909      0.066      -0.403       0.014\n",
      "==============================================================================\n",
      "Omnibus:                        0.888   Durbin-Watson:                   2.194\n",
      "Prob(Omnibus):                  0.641   Jarque-Bera (JB):                0.809\n",
      "Skew:                          -0.117   Prob(JB):                        0.667\n",
      "Kurtosis:                       2.257   Cond. No.                         25.4\n",
      "==============================================================================\n",
      "\n",
      "Warnings:\n",
      "[1] Standard Errors assume that the covariance matrix of the errors is correctly specified.\n"
     ]
    }
   ],
   "source": [
    "oil = q2[1:,q2_n == 'oil']\n",
    "exo = xy.T\n",
    "exos = statsmod.tools.tools.add_constant(exo)\n",
    "results = statsmod.OLS(oil, exos).fit()\n",
    "print(results.summary())"
   ]
  },
  {
   "cell_type": "code",
   "execution_count": 18,
   "metadata": {},
   "outputs": [
    {
     "data": {
      "image/png": "[encoded data removed]",
      "text/plain": [
       "<Figure size 432x288 with 1 Axes>"
      ]
     },
     "metadata": {
      "needs_background": "light"
     },
     "output_type": "display_data"
    }
   ],
   "source": [
    "USA = q2[1:,q2_n == 'USA']\n",
    "USAlst = USA.tolist()\n",
    "CSlst = Consumer.tolist()\n",
    "plt.plot(yearlst, USAlst, color = 'red', label = 'USA')\n",
    "plt.plot(yearlst, CSlst, color = 'blue', label = 'Consumer Sentiment')\n",
    "plt.xlabel('Years')\n",
    "plt.ylabel('Index Levels')\n",
    "plt.legend()\n",
    "plt.show()"
   ]
  },
  {
   "cell_type": "markdown",
   "metadata": {},
   "source": [
    "The regression results are:\n",
    "NEGSCORE = 2.13 + 0.44 * POSSCORE + e\n",
    "\n",
    "Commodity returns = -0.0734 -0.1472 * NEGSCORE + 0.3124 * POSSCORE + e\n",
    "\n",
    "USA stock returns = 0.0691 -0.0992 * NEGSCORE + 0.1940 * POSSCORE + e\n",
    "\n",
    "Changes in VIX = -0.0446 + 0.2030 * NEGSCORE -0.2996 * POSSCORE + e\n",
    "\n",
    "Changes in consumer sentiment = -0.0648 - 0.0471 * NEGSCORE +0.1164 * POSSCORE + e\n",
    "\n",
    "The first regression studies the relationship between POSSCORE and NEGSCORE. A positive coefficient and positive intercept suggests over the 1990-2021 period, the FOMC is pessimistic about the market most of the time. r value is 0.19 which means changes in POSSCORE explain little of changes in NEGSCORE. It makes sense because each FOMC meeting is independent and only addresses most recent conditions, the previous meeting may gives a little hint but the board does not fully rely on its previous decisions when making new ones. \n",
    "\n",
    "In the multivariate regressions, we are curious about which observables (asset prices, VIX, consumer sentiment) are more sensitive to Central Bank's sentiment. Except for the coefficient for POSSCORE in the VIX regression, all the other coefficients are statistically significant. I looked at the magnitude and the direction of these coefficients and found that the absolute values of POSSCORE coefficients are all larger than NEGSCORE coefficients, therefore the observables are more responsive to positive sentiment. Commodities is the most responsive to positive sentiment and VIX is the most responsive to negative sentiment. Directionally, coefficients for POSSCORE are positive with the exception of VIX, because VIX tracks volatility and is also known as a \"fear index\", and when the market is falling, volatility value, investors’ fear, and VIX values all move up. \n",
    "\n",
    "I'm interested in the relationship between Consumer Sentiment and USA stock returns. It is generally believed that when Consumer Sentiment goes up people are likely to spend more money and invest more, and stock prices is also an important indicator that affects Consumer Sentiment. Hence, I assumed that we will see significant co-movement if we plot them together. The graph shows that the two indicies mostly move in the same direction in good times and in bad times. However, in the period between 2018 and 2020, USA stock returns increased significantly while consumer sentiment dropped. Researchers believed that increasing inflation expectations combined with dismal wage growth contributed to this downward trend. \n",
    "\n",
    "Source: https://www.marketwatch.com/story/lack-of-wage-growth-brings-down-consumer-sentiment-in-october-2018-10-26\n",
    "\n",
    "Additionally, I looked at oil's sensitivity to POSSCORE and NEGSCORE. My hypothesis is that the coefficient for POSSCORE would be larger in absolute value because oil demand goes up when the economy is doing well, but when the economy is not doing well exporters and OPEC will quickly respond to it by cutting production so that oil price does not drop freely. The regresssion shows that coefficient of POSSCORE is indeed larger yet the two coefficients are not statistically significant, this could be attributed to the cartels' influence over prices, and the various geopolitical events that are completely uncorrelated to the economy. "
   ]
  },
  {
   "cell_type": "code",
   "execution_count": null,
   "metadata": {},
   "outputs": [],
   "source": []
  }
 ],
 "metadata": {
  "kernelspec": {
   "display_name": "Python 3",
   "language": "python",
   "name": "python3"
  },
  "language_info": {
   "codemirror_mode": {
    "name": "ipython",
    "version": 3
   },
   "file_extension": ".py",
   "mimetype": "text/x-python",
   "name": "python",
   "nbconvert_exporter": "python",
   "pygments_lexer": "ipython3",
   "version": "3.7.4"
  }
 },
 "nbformat": 4,
 "nbformat_minor": 2
}
