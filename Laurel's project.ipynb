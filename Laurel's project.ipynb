{
 "cells": [
  {
   "cell_type": "markdown",
   "metadata": {},
   "source": [
    "Use Census Data API to request Time Series Economic Indicators - Quarterly Summary of State and Local Taxes\n",
    "QTAXCAT3: latest state tax collections by state and type of tax\n",
    "\n",
    "T01: property taxes\n",
    "\n",
    "T09: general sales and gross receipts taxes\n",
    "\n",
    "T15: public utilities tax\n",
    "\n",
    "All cell values in millions of dollars\n",
    "https://api.census.gov/data/timeseries/eits/qtax?get=cell_value,time_slot_id,error_data&category_code=QTAXCAT3&seasonally_adj&data_type_code&time=from+2010\n",
    "\n"
   ]
  },
  {
   "cell_type": "code",
   "execution_count": 8,
   "metadata": {},
   "outputs": [],
   "source": [
    "import urllib.request, urllib.parse, urllib.error\n",
    "import json\n",
    "import requests\n",
    "import ast\n",
    "import matplotlib.pyplot as plt\n",
    "import matplotlib.dates as mdates\n",
    "from matplotlib.dates import DateFormatter\n",
    "import pandas as pd\n",
    "import numpy as np\n",
    "import seaborn as sns"
   ]
  },
  {
   "cell_type": "markdown",
   "metadata": {},
   "source": [
    "My intuition is that the state that has a higher GDP will see their muni bond perform better, therefore I downloaded data from FRED and looked at each state's GDP for the past ten years and found three states of my interest: California with the highest GDP, Vermont with the lowest, and Massachusetts where I reside. "
   ]
  },
  {
   "cell_type": "code",
   "execution_count": 9,
   "metadata": {},
   "outputs": [
    {
     "name": "stdout",
     "output_type": "stream",
     "text": [
      "0     CANQGSP\n",
      "1     CANQGSP\n",
      "2     CANQGSP\n",
      "3     CANQGSP\n",
      "4     CANQGSP\n",
      "5     CANQGSP\n",
      "6     CANQGSP\n",
      "7     CANQGSP\n",
      "8     CANQGSP\n",
      "9     CANQGSP\n",
      "10    CANQGSP\n",
      "11    CANQGSP\n",
      "12    CANQGSP\n",
      "13    CANQGSP\n",
      "14    CANQGSP\n",
      "15    CANQGSP\n",
      "16    CANQGSP\n",
      "17    CANQGSP\n",
      "18    CANQGSP\n",
      "19    CANQGSP\n",
      "20    CANQGSP\n",
      "21    CANQGSP\n",
      "22    CANQGSP\n",
      "23    CANQGSP\n",
      "24    CANQGSP\n",
      "25    CANQGSP\n",
      "26    CANQGSP\n",
      "27    CANQGSP\n",
      "28    CANQGSP\n",
      "29    CANQGSP\n",
      "30    CANQGSP\n",
      "31    CANQGSP\n",
      "32    CANQGSP\n",
      "33    CANQGSP\n",
      "34    CANQGSP\n",
      "35    CANQGSP\n",
      "36    CANQGSP\n",
      "37    CANQGSP\n",
      "38    CANQGSP\n",
      "39    CANQGSP\n",
      "dtype: object 0     VTNQGSP\n",
      "1     VTNQGSP\n",
      "2     VTNQGSP\n",
      "3     VTNQGSP\n",
      "4     VTNQGSP\n",
      "5     VTNQGSP\n",
      "6     VTNQGSP\n",
      "7     VTNQGSP\n",
      "8     VTNQGSP\n",
      "9     VTNQGSP\n",
      "10    VTNQGSP\n",
      "11    VTNQGSP\n",
      "12    VTNQGSP\n",
      "13    VTNQGSP\n",
      "14    VTNQGSP\n",
      "15    VTNQGSP\n",
      "16    VTNQGSP\n",
      "17    VTNQGSP\n",
      "18    VTNQGSP\n",
      "19    VTNQGSP\n",
      "20    VTNQGSP\n",
      "21    VTNQGSP\n",
      "22    VTNQGSP\n",
      "23    VTNQGSP\n",
      "24    VTNQGSP\n",
      "25    VTNQGSP\n",
      "26    VTNQGSP\n",
      "27    VTNQGSP\n",
      "28    VTNQGSP\n",
      "29    VTNQGSP\n",
      "30    VTNQGSP\n",
      "31    VTNQGSP\n",
      "32    VTNQGSP\n",
      "33    VTNQGSP\n",
      "34    VTNQGSP\n",
      "35    VTNQGSP\n",
      "36    VTNQGSP\n",
      "37    VTNQGSP\n",
      "38    VTNQGSP\n",
      "39    VTNQGSP\n",
      "dtype: object\n"
     ]
    }
   ],
   "source": [
    "GDPdf = pd.read_csv('stateGDP.csv')\n",
    "GDPdf.head()\n",
    "GDPdf_new = GDPdf.drop(\"DATE\", axis=1, inplace=False)\n",
    "print(GDPdf_new.idxmax(axis = 1),GDPdf_new.idxmin(axis = 1))"
   ]
  },
  {
   "cell_type": "markdown",
   "metadata": {},
   "source": [
    "I used the S&P Municipal Bond Index as a benchmark for these states' muni bond performances. It is a broad, market value-weighted index that seeks to measure the performance of bonds issued within Massachusetts. The time series plot shows strong positive correlation between states. The performances of CA and VT bonds were almost identical, yet MA has been underperforming the other two since 2014. "
   ]
  },
  {
   "cell_type": "code",
   "execution_count": 11,
   "metadata": {},
   "outputs": [
    {
     "name": "stdout",
     "output_type": "stream",
     "text": [
      "Date - 0.0 missing\n",
      "Index - 0.0 missing\n"
     ]
    },
    {
     "data": {
      "image/png": "[encoded data removed]",
      "text/plain": [
       "<Figure size 432x288 with 1 Axes>"
      ]
     },
     "metadata": {
      "needs_background": "light"
     },
     "output_type": "display_data"
    }
   ],
   "source": [
    "CAdf = pd.read_csv('CAmuni.csv')\n",
    "CAdf['Date'] = pd.to_datetime(CAdf['Date'])\n",
    "#CAdf.head()\n",
    "from pandas.plotting import register_matplotlib_converters\n",
    "register_matplotlib_converters()\n",
    "CAdf['Date'] = pd.to_datetime(CAdf['Date'])\n",
    "#Check for missing data\n",
    "for col in CAdf.columns:\n",
    "    pct_missing = np.mean(CAdf[col].isnull())\n",
    "    print('{} - {} missing'.format(col, pct_missing))\n",
    "CAdate = CAdf['Date']\n",
    "CAindex = CAdf['Index']\n",
    "CAdatelst = list(CAdate)\n",
    "CAindexlst = list(CAindex)\n",
    "\n",
    "#Vermont Municipal Bond\n",
    "VTmuni = pd.read_csv('VTmuni.csv')\n",
    "VTindex = VTmuni['Index']\n",
    "VTindexlst = []\n",
    "VTindexlst = list(VTindex)\n",
    "\n",
    "#Massachusetts Municipal Bond\n",
    "MAmuni = pd.read_csv('MAmuni.csv')\n",
    "MAindex = MAmuni['Index']\n",
    "MAindexlst = []\n",
    "MAindexlst = list(MAindex)\n",
    "\n",
    "#Time Series plot\n",
    "plt.plot(CAdatelst, CAindexlst, color = 'red')\n",
    "ax = plt.gca()\n",
    "ax.xaxis.set_major_locator(mdates.YearLocator(base = 1))\n",
    "ax.xaxis.set_major_formatter(mdates.DateFormatter('%d-%m-%Y'))\n",
    "plt.plot(CAdatelst, MAindexlst, color = 'blue')\n",
    "plt.plot(CAdatelst, VTindexlst, color = 'orange')\n",
    "plt.xlabel('Dates')\n",
    "plt.ylabel('Index Levels')\n",
    "plt.xticks(rotation = 90)\n",
    "plt.show()\n"
   ]
  },
  {
   "cell_type": "markdown",
   "metadata": {},
   "source": [
    "My hypothesis is that the tax revenue of these three states would have a high correlation with their muni bond performances because these bonds are backed by the “full faith and credit” of the issuer, which has the power to tax residents to pay bondholders. I used Census Data API to request Time Series Economic Indicators - Quarterly Summary of State and Local Taxes \n",
    "\n",
    "QTAXCAT3: latest state tax collections by state and type of tax\n",
    "\n",
    "T01: property taxes\n",
    "\n",
    "T09: general sales and gross receipts taxes\n",
    "\n",
    "T15: public utilities tax\n",
    "\n",
    "All cell values in millions of dollars"
   ]
  },
  {
   "cell_type": "markdown",
   "metadata": {},
   "source": []
  },
  {
   "cell_type": "code",
   "execution_count": 14,
   "metadata": {},
   "outputs": [],
   "source": [
    "def only_dict(data):\n",
    "    return ast.literal_eval(data)"
   ]
  },
  {
   "cell_type": "code",
   "execution_count": 15,
   "metadata": {},
   "outputs": [],
   "source": [
    "#Define a function for correlation between T01 and muni bond index\n",
    "def T01corr(state):\n",
    "    url = 'https://api.census.gov/data/timeseries/eits/qtax?get=cell_value,time_slot_id&data_type_code=T01&geo_level_code='+state+'&category_code=QTAXCAT3&seasonally_adj=no&time=from+2012'\n",
    "    print('Retrieving', url)\n",
    "    api_data = urllib.request.urlopen(url)\n",
    "    data = api_data.read().decode()\n",
    "    print('Retrieved', len(data),'characters')\n",
    "\n",
    "    try: \n",
    "        js = json.loads(data)\n",
    "    except:\n",
    "        js = None\n",
    "    if not js:\n",
    "        print('====Failure To Retrieve====')\n",
    "        \n",
    "    statedata = only_dict(data)\n",
    "    datelst = []\n",
    "    state_T01 = []\n",
    "    for i in range(1,len(statedata)):\n",
    "        state_T01.append(float(statedata[i][0]))\n",
    "    for j in range(1,len(statedata)):\n",
    "        datelst.append(statedata[j][-1])\n",
    "\n",
    "    statedf = pd.read_csv(state + 'muni.csv')\n",
    "    date = statedf['Date']\n",
    "    stateindex = statedf['Index']\n",
    "    daily = list(date)\n",
    "    stateindexlst = list(stateindex)    \n",
    "    \n",
    "    \n",
    "    statedict = {daily[i]: stateindexlst[i] for i in range(len(daily))} #dictionary comprehension\n",
    "\n",
    "    #convert bond index data to quarterly by taking the number on the last day of each quarter.\n",
    "    \n",
    "    #find all dates in the last month of a quarter in each year\n",
    "    lst1=[]\n",
    "    for year in range(2012,2022):\n",
    "        for k in range(len(daily)):\n",
    "            if str(year) + '-03' == daily[k][:7]:\n",
    "                lst1.append(daily[k])\n",
    "            elif str(year) + '-06' == daily[k][:7]:\n",
    "                lst1.append(daily[k])\n",
    "            elif str(year) + '-09' == daily[k][:7]:\n",
    "                lst1.append(daily[k])\n",
    "            elif str(year) + '-12' == daily[k][:7]:\n",
    "                lst1.append(daily[k])\n",
    "                \n",
    "    #find the last day of a quarter\n",
    "    Qends = []\n",
    "    for v in range(len(lst1)-1):\n",
    "        if lst1[v][:7] != lst1[v+1][:7]:\n",
    "            Qends.append(lst1[v])\n",
    "    Qends.append(lst1[-1])        #add one missing date\n",
    "\n",
    "    #find the index value at these end of quarter dates\n",
    "    Qend_val=[]\n",
    "    for d in range(len(Qends)):\n",
    "        Qend_val.append(statedict[Qends[d]])\n",
    "    print('\\nNumber of dates matched:', len(Qend_val) == len(datelst))  #See if the number of dates matches\n",
    "    statecorr = pd.DataFrame(list(zip(state_T01,Qend_val)), columns = ['property tax','bond index'])\n",
    "    sns.regplot(x = 'property tax', y = 'bond index', data = statecorr)\n",
    "    print(statecorr.corr(method = 'pearson'))"
   ]
  },
  {
   "cell_type": "code",
   "execution_count": 16,
   "metadata": {},
   "outputs": [
    {
     "name": "stdout",
     "output_type": "stream",
     "text": [
      "Retrieving https://api.census.gov/data/timeseries/eits/qtax?get=cell_value,time_slot_id&data_type_code=T01&geo_level_code=CA&category_code=QTAXCAT3&seasonally_adj=no&time=from+2012\n",
      "Retrieved 2225 characters\n",
      "\n",
      "Number of dates matched: True\n",
      "              property tax  bond index\n",
      "property tax      1.000000    0.924369\n",
      "bond index        0.924369    1.000000\n"
     ]
    },
    {
     "data": {
      "image/png": "[encoded data removed]",
      "text/plain": [
       "<Figure size 432x288 with 1 Axes>"
      ]
     },
     "metadata": {
      "needs_background": "light"
     },
     "output_type": "display_data"
    }
   ],
   "source": [
    "#CA\n",
    "T01corr('CA')"
   ]
  },
  {
   "cell_type": "code",
   "execution_count": null,
   "metadata": {},
   "outputs": [],
   "source": [
    "T01corr('VT')"
   ]
  },
  {
   "cell_type": "code",
   "execution_count": null,
   "metadata": {},
   "outputs": [],
   "source": [
    "#MA\n",
    "T01corr('MA')"
   ]
  },
  {
   "cell_type": "markdown",
   "metadata": {},
   "source": [
    "The graphs for three states show strong correlation between property taxes and muni bond index levels in California, but there seems to be erroneous data for property taxes in VT and MA, wiht lots of 0s and 1s in values. According to *Property Tax Facts&Figures - FY2021* from City of Boston Assessing Department, total value of property tax in FY2021 was over 190 billion in the City of Boston."
   ]
  },
  {
   "cell_type": "code",
   "execution_count": 17,
   "metadata": {},
   "outputs": [],
   "source": [
    "#Define a function for T15corr\n",
    "def T15corr(state):\n",
    "    url = 'https://api.census.gov/data/timeseries/eits/qtax?get=cell_value,time_slot_id&data_type_code=T15&geo_level_code='+state+'&category_code=QTAXCAT3&seasonally_adj=no&time=from+2012'\n",
    "    print('Retrieving', url)\n",
    "    api_data = urllib.request.urlopen(url)\n",
    "    data = api_data.read().decode()\n",
    "    print('Retrieved', len(data),'characters')\n",
    "\n",
    "    try: \n",
    "        js = json.loads(data)\n",
    "    except:\n",
    "        js = None\n",
    "    if not js:\n",
    "        print('====Failure To Retrieve====')\n",
    "        \n",
    "    statedata = only_dict(data)\n",
    "    datelst = []\n",
    "    state_T15 = []\n",
    "    for i in range(1,len(statedata)):\n",
    "        state_T15.append(float(statedata[i][0]))\n",
    "    for j in range(1,len(statedata)):\n",
    "        datelst.append(statedata[j][-1])\n",
    "\n",
    "    statedf = pd.read_csv(state + 'muni.csv')\n",
    "    date = statedf['Date']\n",
    "    stateindex = statedf['Index']\n",
    "    daily = list(date)\n",
    "    stateindexlst = list(stateindex)    \n",
    "    \n",
    "    \n",
    "    statedict = {daily[i]: stateindexlst[i] for i in range(len(daily))}\n",
    "\n",
    "    #find all dates in the last month of a quarter in each year\n",
    "    lst1=[]\n",
    "    for year in range(2012,2022):\n",
    "        for k in range(len(daily)):\n",
    "            if str(year) + '-03' == daily[k][:7]:\n",
    "                lst1.append(daily[k])\n",
    "            elif str(year) + '-06' == daily[k][:7]:\n",
    "                lst1.append(daily[k])\n",
    "            elif str(year) + '-09' == daily[k][:7]:\n",
    "                lst1.append(daily[k])\n",
    "            elif str(year) + '-12' == daily[k][:7]:\n",
    "                lst1.append(daily[k])\n",
    "                \n",
    "    #find the last day of a quarter\n",
    "    Qends = []\n",
    "    for v in range(len(lst1)-1):\n",
    "        if lst1[v][:7] != lst1[v+1][:7]:\n",
    "            Qends.append(lst1[v])\n",
    "    Qends.append(lst1[-1])        #add one missing date\n",
    "\n",
    "    #find the index value at these end of quarter dates\n",
    "    Qend_val=[]\n",
    "    for d in range(len(Qends)):\n",
    "        Qend_val.append(statedict[Qends[d]])\n",
    "    print('\\nNumber of dates matched:', len(Qend_val) == len(datelst))  #See if the number of dates matches\n",
    "    statecorr = pd.DataFrame(list(zip(state_T15,Qend_val)), columns = ['public utilities tax','bond index'])\n",
    "    sns.regplot(x = 'public utilities tax', y = 'bond index', data = statecorr)\n",
    "    print(statecorr.corr(method = 'pearson'))\n"
   ]
  },
  {
   "cell_type": "code",
   "execution_count": 18,
   "metadata": {},
   "outputs": [
    {
     "name": "stdout",
     "output_type": "stream",
     "text": [
      "Retrieving https://api.census.gov/data/timeseries/eits/qtax?get=cell_value,time_slot_id&data_type_code=T15&geo_level_code=CA&category_code=QTAXCAT3&seasonally_adj=no&time=from+2012\n",
      "Retrieved 2223 characters\n",
      "\n",
      "Number of dates matched: True\n",
      "                      public utilities tax  bond index\n",
      "public utilities tax              1.000000   -0.128167\n",
      "bond index                       -0.128167    1.000000\n"
     ]
    },
    {
     "data": {
      "image/png": "[encoded data removed]",
      "text/plain": [
       "<Figure size 432x288 with 1 Axes>"
      ]
     },
     "metadata": {
      "needs_background": "light"
     },
     "output_type": "display_data"
    }
   ],
   "source": [
    "T15corr('CA')"
   ]
  },
  {
   "cell_type": "code",
   "execution_count": null,
   "metadata": {},
   "outputs": [],
   "source": [
    "T15corr('VT')"
   ]
  },
  {
   "cell_type": "code",
   "execution_count": null,
   "metadata": {},
   "outputs": [],
   "source": [
    "T15corr('MA')"
   ]
  },
  {
   "cell_type": "markdown",
   "metadata": {},
   "source": [
    "The three graphs show no particular pattern between public utilities tax and muni bond index. Once again, there are many 0s in VT's data. MA shows a constant public utilities tax of about 6 million dollars.  "
   ]
  },
  {
   "cell_type": "code",
   "execution_count": 19,
   "metadata": {},
   "outputs": [],
   "source": [
    "def T09corr(state):\n",
    "    url = 'https://api.census.gov/data/timeseries/eits/qtax?get=cell_value,time_slot_id&data_type_code=T09&geo_level_code='+state+'&category_code=QTAXCAT3&seasonally_adj=no&time=from+2012'\n",
    "    print('Retrieving', url)\n",
    "    api_data = urllib.request.urlopen(url)\n",
    "    data = api_data.read().decode()\n",
    "    print('Retrieved', len(data),'characters')\n",
    "\n",
    "    try: \n",
    "        js = json.loads(data)\n",
    "    except:\n",
    "        js = None\n",
    "    if not js:\n",
    "        print('====Failure To Retrieve====')\n",
    "        \n",
    "    statedata = only_dict(data)\n",
    "    datelst = []\n",
    "    state_T09 = []\n",
    "    for i in range(1,len(statedata)):\n",
    "        state_T09.append(float(statedata[i][0]))\n",
    "    for j in range(1,len(statedata)):\n",
    "        datelst.append(statedata[j][-1])\n",
    "\n",
    "    statedf = pd.read_csv(state + 'muni.csv')\n",
    "    date = statedf['Date']\n",
    "    stateindex = statedf['Index']\n",
    "    daily = list(date)\n",
    "    stateindexlst = list(stateindex)    \n",
    "    \n",
    "    \n",
    "    statedict = {daily[i]: stateindexlst[i] for i in range(len(daily))}\n",
    "\n",
    "    #find all dates in the last month of a quarter in each year\n",
    "    lst1=[]\n",
    "    for year in range(2012,2022):\n",
    "        for k in range(len(daily)):\n",
    "            if str(year) + '-03' == daily[k][:7]:\n",
    "                lst1.append(daily[k])\n",
    "            elif str(year) + '-06' == daily[k][:7]:\n",
    "                lst1.append(daily[k])\n",
    "            elif str(year) + '-09' == daily[k][:7]:\n",
    "                lst1.append(daily[k])\n",
    "            elif str(year) + '-12' == daily[k][:7]:\n",
    "                lst1.append(daily[k])\n",
    "                \n",
    "    #find the last day of a quarter\n",
    "    Qends = []\n",
    "    for v in range(len(lst1)-1):\n",
    "        if lst1[v][:7] != lst1[v+1][:7]:\n",
    "            Qends.append(lst1[v])\n",
    "    Qends.append(lst1[-1])        #add one missing date\n",
    "\n",
    "    #find the index value at these end of quarter dates\n",
    "    Qend_val=[]\n",
    "    for d in range(len(Qends)):\n",
    "        Qend_val.append(statedict[Qends[d]])\n",
    "    print('\\nNumber of dates matched:', len(Qend_val) == len(datelst))  #See if the number of dates matches\n",
    "    statecorr = pd.DataFrame(list(zip(state_T09,Qend_val)), columns = ['general sales tax','bond index'])\n",
    "    sns.regplot(x = 'general sales tax', y = 'bond index', data = statecorr)\n",
    "    print(statecorr.corr(method = 'pearson'))\n"
   ]
  },
  {
   "cell_type": "code",
   "execution_count": 20,
   "metadata": {},
   "outputs": [
    {
     "name": "stdout",
     "output_type": "stream",
     "text": [
      "Retrieving https://api.census.gov/data/timeseries/eits/qtax?get=cell_value,time_slot_id&data_type_code=T09&geo_level_code=CA&category_code=QTAXCAT3&seasonally_adj=no&time=from+2012\n",
      "Retrieved 2281 characters\n",
      "\n",
      "Number of dates matched: True\n",
      "                   general sales tax  bond index\n",
      "general sales tax           1.000000    0.744505\n",
      "bond index                  0.744505    1.000000\n"
     ]
    },
    {
     "data": {
      "image/png": "[encoded data removed]",
      "text/plain": [
       "<Figure size 432x288 with 1 Axes>"
      ]
     },
     "metadata": {
      "needs_background": "light"
     },
     "output_type": "display_data"
    }
   ],
   "source": [
    "T09corr('CA')"
   ]
  },
  {
   "cell_type": "code",
   "execution_count": null,
   "metadata": {},
   "outputs": [],
   "source": [
    "T09corr('VT')"
   ]
  },
  {
   "cell_type": "code",
   "execution_count": null,
   "metadata": {},
   "outputs": [],
   "source": [
    "T09corr('MA')"
   ]
  },
  {
   "cell_type": "markdown",
   "metadata": {},
   "source": [
    "There is strong positive correlation between general sales and gross receipts taxes and muni bond performance. I compared T09 of the three states for the past 10 years to see if it explains MA's underperformance since 2014. "
   ]
  },
  {
   "cell_type": "code",
   "execution_count": null,
   "metadata": {},
   "outputs": [],
   "source": [
    "url = 'https://api.census.gov/data/timeseries/eits/qtax?get=cell_value,time_slot_id&data_type_code=T09&geo_level_code=CA&category_code=QTAXCAT3&seasonally_adj=no&time=from+2012'\n",
    "api_data = urllib.request.urlopen(url)\n",
    "CAdata = api_data.read().decode()\n",
    "\n",
    "CA_dict = only_dict(CAdata)\n",
    "datelst = []\n",
    "CA_T09 = []\n",
    "for i in range(1,len(CA_dict)):\n",
    "    CA_T09.append(float(CA_dict[i][0]))\n",
    "for j in range(1,len(CA_dict)):\n",
    "    datelst.append(CA_dict[j][-1])\n",
    "\n",
    "url = 'https://api.census.gov/data/timeseries/eits/qtax?get=cell_value,time_slot_id&data_type_code=T09&geo_level_code=VT&category_code=QTAXCAT3&seasonally_adj=no&time=from+2012'\n",
    "api_data = urllib.request.urlopen(url)\n",
    "VTdata = api_data.read().decode()\n",
    "\n",
    "VT_dict = only_dict(VTdata)\n",
    "VT_T09 = []\n",
    "for i in range(1,len(VT_dict)):\n",
    "    VT_T09.append(float(VT_dict[i][0]))\n",
    "\n",
    "    \n",
    "url = 'https://api.census.gov/data/timeseries/eits/qtax?get=cell_value,time_slot_id&data_type_code=T09&geo_level_code=MA&category_code=QTAXCAT3&seasonally_adj=no&time=from+2012'\n",
    "api_data = urllib.request.urlopen(url)\n",
    "MAdata = api_data.read().decode()\n",
    "\n",
    "MA_dict = only_dict(MAdata)\n",
    "MA_T09 = []\n",
    "for i in range(1,len(MA_dict)):\n",
    "    MA_T09.append(float(MA_dict[i][0]))\n",
    "    "
   ]
  },
  {
   "cell_type": "code",
   "execution_count": null,
   "metadata": {},
   "outputs": [],
   "source": [
    "# plt.plot(datelst, CA_T09, color = 'red')\n",
    "plt.plot(datelst, MA_T09, color = 'blue')\n",
    "plt.plot(datelst, VT_T09, color = 'orange')\n",
    "plt.xlabel('Dates')\n",
    "plt.ylabel('T09')\n",
    "plt.xticks(rotation = 90)\n",
    "plt.show()"
   ]
  },
  {
   "cell_type": "markdown",
   "metadata": {},
   "source": [
    "Next, I investigate "
   ]
  },
  {
   "cell_type": "markdown",
   "metadata": {},
   "source": []
  },
  {
   "cell_type": "markdown",
   "metadata": {},
   "source": []
  },
  {
   "cell_type": "code",
   "execution_count": null,
   "metadata": {},
   "outputs": [],
   "source": []
  }
 ],
 "metadata": {
  "kernelspec": {
   "display_name": "Python 3",
   "language": "python",
   "name": "python3"
  },
  "language_info": {
   "codemirror_mode": {
    "name": "ipython",
    "version": 3
   },
   "file_extension": ".py",
   "mimetype": "text/x-python",
   "name": "python",
   "nbconvert_exporter": "python",
   "pygments_lexer": "ipython3",
   "version": "3.7.4"
  }
 },
 "nbformat": 4,
 "nbformat_minor": 2
}
